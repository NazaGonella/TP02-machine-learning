{
 "cells": [
  {
   "cell_type": "code",
   "execution_count": null,
   "id": "043eebf7",
   "metadata": {},
   "outputs": [],
   "source": [
    "import pandas as pd\n",
    "import numpy as np\n",
    "import matplotlib.pyplot as plt\n",
    "import seaborn as sb\n",
    "import os\n",
    "import problema2.src.preprocessing as prepro\n",
    "from IPython.display import display\n",
    "\n",
    "project_root = os.path.abspath(os.path.join(os.getcwd(), \"..\"))\n",
    "\n",
    "war_class_dev : pd.DataFrame = pd.read_csv(f'{project_root}/TP02/problema2/data/raw/WAR_class_dev.csv')\n",
    "war_class_test : pd.DataFrame = pd.read_csv(f'{project_root}/TP02/problema2/data/raw/WAR_class_test.csv')"
   ]
  },
  {
   "cell_type": "code",
   "execution_count": null,
   "id": "2036e6c0",
   "metadata": {},
   "outputs": [
    {
     "name": "stdout",
     "output_type": "stream",
     "text": [
      "<class 'pandas.core.frame.DataFrame'>\n",
      "RangeIndex: 6782 entries, 0 to 6781\n",
      "Data columns (total 6 columns):\n",
      " #   Column        Non-Null Count  Dtype  \n",
      "---  ------        --------------  -----  \n",
      " 0   poss          6782 non-null   float64\n",
      " 1   mp            6782 non-null   float64\n",
      " 2   raptor_total  6782 non-null   float64\n",
      " 3   war_total     6782 non-null   float64\n",
      " 4   pace_impact   6782 non-null   float64\n",
      " 5   war_class     6782 non-null   int64  \n",
      "dtypes: float64(5), int64(1)\n",
      "memory usage: 318.0 KB\n"
     ]
    }
   ],
   "source": [
    "war_class_dev.info()"
   ]
  },
  {
   "cell_type": "code",
   "execution_count": null,
   "id": "5ae6bc05",
   "metadata": {},
   "outputs": [],
   "source": [
    "war_class_dev_processed_and_standardized : pd.DataFrame = prepro.process_and_stardardize(war_class_dev)\n",
    "display(war_class_dev_processed_and_standardized.info())\n",
    "display(war_class_dev_processed_and_standardized.head())"
   ]
  }
 ],
 "metadata": {
  "kernelspec": {
   "display_name": "Python 3",
   "language": "python",
   "name": "python3"
  },
  "language_info": {
   "codemirror_mode": {
    "name": "ipython",
    "version": 3
   },
   "file_extension": ".py",
   "mimetype": "text/x-python",
   "name": "python",
   "nbconvert_exporter": "python",
   "pygments_lexer": "ipython3",
   "version": "3.12.3"
  }
 },
 "nbformat": 4,
 "nbformat_minor": 5
}
